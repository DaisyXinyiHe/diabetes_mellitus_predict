{
  "nbformat": 4,
  "nbformat_minor": 0,
  "metadata": {
    "colab": {
      "name": "pre_processing.ipynb",
      "provenance": [],
      "collapsed_sections": [],
      "authorship_tag": "ABX9TyMGXmHetUNpSqw+D2bg+ioT"
    },
    "kernelspec": {
      "name": "python3",
      "display_name": "Python 3"
    }
  },
  "cells": [
    {
      "cell_type": "markdown",
      "metadata": {
        "id": "iOgzJVbpLpLS"
      },
      "source": [
        "# Load data\n",
        "\n",
        "## Execute this if using google colab and connecting it with google drive\n",
        "## If not using google colab, navigate the script to your local drive"
      ]
    },
    {
      "cell_type": "code",
      "metadata": {
        "colab": {
          "base_uri": "https://localhost:8080/"
        },
        "id": "_qzJTFzILTki",
        "outputId": "a5af3efb-561c-49d7-b529-60d38a569ec2"
      },
      "source": [
        "from google.colab import drive\n",
        "drive.mount('/content/drive')"
      ],
      "execution_count": null,
      "outputs": [
        {
          "output_type": "stream",
          "text": [
            "Mounted at /content/drive\n"
          ],
          "name": "stdout"
        }
      ]
    },
    {
      "cell_type": "code",
      "metadata": {
        "colab": {
          "base_uri": "https://localhost:8080/"
        },
        "id": "n5hQlcoGL3nm",
        "outputId": "e2fc8c84-39fd-4b5c-c2aa-dde5da1e0738"
      },
      "source": [
        "# Navigate data to its location\n",
        "cd /content/drive/MyDrive/Colab Notebooks/WiDS_2021"
      ],
      "execution_count": null,
      "outputs": [
        {
          "output_type": "stream",
          "text": [
            "/content/drive/MyDrive/Colab Notebooks/WiDS_2021\n"
          ],
          "name": "stdout"
        }
      ]
    },
    {
      "cell_type": "code",
      "metadata": {
        "id": "ZB5BKt9zkbKz"
      },
      "source": [
        "# Load libraries\n",
        "import numpy as np\n",
        "import pandas as pd"
      ],
      "execution_count": null,
      "outputs": []
    },
    {
      "cell_type": "code",
      "metadata": {
        "id": "CL0hF4s_Mych"
      },
      "source": [
        "# load training data\n",
        "\n",
        "training_data = pd.read_csv('TrainingWiDS2021.csv')"
      ],
      "execution_count": null,
      "outputs": []
    },
    {
      "cell_type": "code",
      "metadata": {
        "colab": {
          "base_uri": "https://localhost:8080/"
        },
        "id": "tFkoCLvgNF_2",
        "outputId": "6173ff86-1711-429f-b277-2f9b4329207f"
      },
      "source": [
        "# Explore dataset\n",
        "print(training_data.head(1))\n",
        "print('training data size is:', training_data.shape)"
      ],
      "execution_count": null,
      "outputs": [
        {
          "output_type": "stream",
          "text": [
            "   Unnamed: 0  encounter_id  ...  solid_tumor_with_metastasis  diabetes_mellitus\n",
            "0           1        214826  ...                            0                  1\n",
            "\n",
            "[1 rows x 181 columns]\n",
            "training data size is: (130157, 181)\n"
          ],
          "name": "stdout"
        }
      ]
    },
    {
      "cell_type": "code",
      "metadata": {
        "colab": {
          "base_uri": "https://localhost:8080/"
        },
        "id": "kTzOH-nqQDtn",
        "outputId": "2b78a5ab-f39d-45f6-9483-c68dd36410e0"
      },
      "source": [
        "# Define independent and dependent variables\n",
        "y = training_data['diabetes_mellitus']\n",
        "training_data = training_data.drop(columns=['diabetes_mellitus'])\n",
        "# encounter_id and hospital_id should not be invluded as predictors\n",
        "training_data = training_data.drop(columns=['encounter_id', 'hospital_id'])\n",
        "print(y.shape)\n",
        "print(training_data.shape)"
      ],
      "execution_count": null,
      "outputs": [
        {
          "output_type": "stream",
          "text": [
            "(130157,)\n",
            "(130157, 178)\n"
          ],
          "name": "stdout"
        }
      ]
    },
    {
      "cell_type": "code",
      "metadata": {
        "colab": {
          "base_uri": "https://localhost:8080/"
        },
        "id": "UAsVVswhcuS9",
        "outputId": "fc520e62-bf0d-4fc3-b55a-06239b70f03d"
      },
      "source": [
        "# Check if feature variables have NA values\n",
        "training_data = training_data.iloc[:,1:]\n",
        "training_data.isnull().any()"
      ],
      "execution_count": null,
      "outputs": [
        {
          "output_type": "execute_result",
          "data": {
            "text/plain": [
              "age                             True\n",
              "bmi                             True\n",
              "elective_surgery               False\n",
              "ethnicity                       True\n",
              "gender                          True\n",
              "                               ...  \n",
              "hepatic_failure                False\n",
              "immunosuppression              False\n",
              "leukemia                       False\n",
              "lymphoma                       False\n",
              "solid_tumor_with_metastasis    False\n",
              "Length: 177, dtype: bool"
            ]
          },
          "metadata": {
            "tags": []
          },
          "execution_count": 162
        }
      ]
    },
    {
      "cell_type": "code",
      "metadata": {
        "colab": {
          "base_uri": "https://localhost:8080/"
        },
        "id": "6eH4qYsMj04j",
        "outputId": "d8938ab2-0408-4b5e-bc50-b3e846c7e9ae"
      },
      "source": [
        "# check data types\n",
        "print(training_data.dtypes)"
      ],
      "execution_count": null,
      "outputs": [
        {
          "output_type": "stream",
          "text": [
            "age                            float64\n",
            "bmi                            float64\n",
            "elective_surgery                 int64\n",
            "ethnicity                       object\n",
            "gender                          object\n",
            "                                ...   \n",
            "hepatic_failure                  int64\n",
            "immunosuppression                int64\n",
            "leukemia                         int64\n",
            "lymphoma                         int64\n",
            "solid_tumor_with_metastasis      int64\n",
            "Length: 177, dtype: object\n"
          ],
          "name": "stdout"
        }
      ]
    },
    {
      "cell_type": "code",
      "metadata": {
        "colab": {
          "base_uri": "https://localhost:8080/"
        },
        "id": "U-gHiryNkFmd",
        "outputId": "6b618e6d-2558-4dfe-a6bb-ccbf53a8eaed"
      },
      "source": [
        "# check how many unique data types is in training_data\n",
        "np.unique(training_data.dtypes)"
      ],
      "execution_count": null,
      "outputs": [
        {
          "output_type": "execute_result",
          "data": {
            "text/plain": [
              "array([dtype('int64'), dtype('float64'), dtype('O')], dtype=object)"
            ]
          },
          "metadata": {
            "tags": []
          },
          "execution_count": 164
        }
      ]
    },
    {
      "cell_type": "code",
      "metadata": {
        "colab": {
          "base_uri": "https://localhost:8080/"
        },
        "id": "9YR8muwsc9Uf",
        "outputId": "0be2eda6-9af9-485d-eb3f-27783d4725e7"
      },
      "source": [
        "# Check if independent variables have NA values\n",
        "y.isnull().any()"
      ],
      "execution_count": null,
      "outputs": [
        {
          "output_type": "execute_result",
          "data": {
            "text/plain": [
              "False"
            ]
          },
          "metadata": {
            "tags": []
          },
          "execution_count": 165
        }
      ]
    },
    {
      "cell_type": "code",
      "metadata": {
        "id": "I99h3Ar7RQ6Q"
      },
      "source": [
        "# Assumming we want to keep all variables as predictors, \n",
        "# we need to create dummy variable all variables with NA values,  \n",
        "# and change NA values to 0\n",
        "# # Only do it to non-string variable for now\n",
        "\n",
        "for c in training_data.columns:\n",
        "  if training_data[c].isnull().any() and training_data[c].dtypes != np.dtype('O'):\n",
        "\n",
        "\n",
        "    newcol = c+'_0_1'\n",
        "    newcol_value = np.array(training_data[c])\n",
        "\n",
        "\n",
        "    nanindex = training_data[c].index[training_data[c].apply(np.isnan)]\n",
        "\n",
        "    newcol_value[nanindex] = 0\n",
        "\n",
        "    newcol_value[newcol_value!= 0]  = 1\n",
        "\n",
        "    training_data[str(newcol)] = newcol_value\n"
      ],
      "execution_count": null,
      "outputs": []
    },
    {
      "cell_type": "code",
      "metadata": {
        "id": "op29o2Abno0v"
      },
      "source": [
        "# Clean categorical data (e.g. ethnicity or dtype('O'))"
      ],
      "execution_count": null,
      "outputs": []
    },
    {
      "cell_type": "code",
      "metadata": {
        "colab": {
          "base_uri": "https://localhost:8080/",
          "height": 338
        },
        "id": "Tr4u5F9KjWZ6",
        "outputId": "c9768add-2e53-43a3-90c1-25c3125b3b78"
      },
      "source": [
        "# Check new dataset\n",
        "training_data.head()\n"
      ],
      "execution_count": null,
      "outputs": [
        {
          "output_type": "execute_result",
          "data": {
            "text/html": [
              "<div>\n",
              "<style scoped>\n",
              "    .dataframe tbody tr th:only-of-type {\n",
              "        vertical-align: middle;\n",
              "    }\n",
              "\n",
              "    .dataframe tbody tr th {\n",
              "        vertical-align: top;\n",
              "    }\n",
              "\n",
              "    .dataframe thead th {\n",
              "        text-align: right;\n",
              "    }\n",
              "</style>\n",
              "<table border=\"1\" class=\"dataframe\">\n",
              "  <thead>\n",
              "    <tr style=\"text-align: right;\">\n",
              "      <th></th>\n",
              "      <th>Unnamed: 0</th>\n",
              "      <th>age</th>\n",
              "      <th>bmi</th>\n",
              "      <th>elective_surgery</th>\n",
              "      <th>ethnicity</th>\n",
              "      <th>gender</th>\n",
              "      <th>height</th>\n",
              "      <th>hospital_admit_source</th>\n",
              "      <th>icu_admit_source</th>\n",
              "      <th>icu_id</th>\n",
              "      <th>icu_stay_type</th>\n",
              "      <th>icu_type</th>\n",
              "      <th>pre_icu_los_days</th>\n",
              "      <th>readmission_status</th>\n",
              "      <th>weight</th>\n",
              "      <th>albumin_apache</th>\n",
              "      <th>apache_2_diagnosis</th>\n",
              "      <th>apache_3j_diagnosis</th>\n",
              "      <th>apache_post_operative</th>\n",
              "      <th>arf_apache</th>\n",
              "      <th>bilirubin_apache</th>\n",
              "      <th>bun_apache</th>\n",
              "      <th>creatinine_apache</th>\n",
              "      <th>fio2_apache</th>\n",
              "      <th>gcs_eyes_apache</th>\n",
              "      <th>gcs_motor_apache</th>\n",
              "      <th>gcs_unable_apache</th>\n",
              "      <th>gcs_verbal_apache</th>\n",
              "      <th>glucose_apache</th>\n",
              "      <th>heart_rate_apache</th>\n",
              "      <th>hematocrit_apache</th>\n",
              "      <th>intubated_apache</th>\n",
              "      <th>map_apache</th>\n",
              "      <th>paco2_apache</th>\n",
              "      <th>paco2_for_ph_apache</th>\n",
              "      <th>pao2_apache</th>\n",
              "      <th>ph_apache</th>\n",
              "      <th>resprate_apache</th>\n",
              "      <th>sodium_apache</th>\n",
              "      <th>temp_apache</th>\n",
              "      <th>...</th>\n",
              "      <th>h1_calcium_max_0_1</th>\n",
              "      <th>h1_calcium_min_0_1</th>\n",
              "      <th>h1_creatinine_max_0_1</th>\n",
              "      <th>h1_creatinine_min_0_1</th>\n",
              "      <th>h1_glucose_max_0_1</th>\n",
              "      <th>h1_glucose_min_0_1</th>\n",
              "      <th>h1_hco3_max_0_1</th>\n",
              "      <th>h1_hco3_min_0_1</th>\n",
              "      <th>h1_hemaglobin_max_0_1</th>\n",
              "      <th>h1_hemaglobin_min_0_1</th>\n",
              "      <th>h1_hematocrit_max_0_1</th>\n",
              "      <th>h1_hematocrit_min_0_1</th>\n",
              "      <th>h1_inr_max_0_1</th>\n",
              "      <th>h1_inr_min_0_1</th>\n",
              "      <th>h1_lactate_max_0_1</th>\n",
              "      <th>h1_lactate_min_0_1</th>\n",
              "      <th>h1_platelets_max_0_1</th>\n",
              "      <th>h1_platelets_min_0_1</th>\n",
              "      <th>h1_potassium_max_0_1</th>\n",
              "      <th>h1_potassium_min_0_1</th>\n",
              "      <th>h1_sodium_max_0_1</th>\n",
              "      <th>h1_sodium_min_0_1</th>\n",
              "      <th>h1_wbc_max_0_1</th>\n",
              "      <th>h1_wbc_min_0_1</th>\n",
              "      <th>d1_arterial_pco2_max_0_1</th>\n",
              "      <th>d1_arterial_pco2_min_0_1</th>\n",
              "      <th>d1_arterial_ph_max_0_1</th>\n",
              "      <th>d1_arterial_ph_min_0_1</th>\n",
              "      <th>d1_arterial_po2_max_0_1</th>\n",
              "      <th>d1_arterial_po2_min_0_1</th>\n",
              "      <th>d1_pao2fio2ratio_max_0_1</th>\n",
              "      <th>d1_pao2fio2ratio_min_0_1</th>\n",
              "      <th>h1_arterial_pco2_max_0_1</th>\n",
              "      <th>h1_arterial_pco2_min_0_1</th>\n",
              "      <th>h1_arterial_ph_max_0_1</th>\n",
              "      <th>h1_arterial_ph_min_0_1</th>\n",
              "      <th>h1_arterial_po2_max_0_1</th>\n",
              "      <th>h1_arterial_po2_min_0_1</th>\n",
              "      <th>h1_pao2fio2ratio_max_0_1</th>\n",
              "      <th>h1_pao2fio2ratio_min_0_1</th>\n",
              "    </tr>\n",
              "  </thead>\n",
              "  <tbody>\n",
              "    <tr>\n",
              "      <th>0</th>\n",
              "      <td>1</td>\n",
              "      <td>68.0</td>\n",
              "      <td>22.732803</td>\n",
              "      <td>0</td>\n",
              "      <td>Caucasian</td>\n",
              "      <td>M</td>\n",
              "      <td>180.3</td>\n",
              "      <td>Floor</td>\n",
              "      <td>Floor</td>\n",
              "      <td>92</td>\n",
              "      <td>admit</td>\n",
              "      <td>CTICU</td>\n",
              "      <td>0.541667</td>\n",
              "      <td>0</td>\n",
              "      <td>73.9</td>\n",
              "      <td>2.3</td>\n",
              "      <td>113.0</td>\n",
              "      <td>502.01</td>\n",
              "      <td>0</td>\n",
              "      <td>0</td>\n",
              "      <td>0.4</td>\n",
              "      <td>31.0</td>\n",
              "      <td>2.51</td>\n",
              "      <td>NaN</td>\n",
              "      <td>3.0</td>\n",
              "      <td>6.0</td>\n",
              "      <td>0.0</td>\n",
              "      <td>4.0</td>\n",
              "      <td>168.0</td>\n",
              "      <td>118.0</td>\n",
              "      <td>27.4</td>\n",
              "      <td>0</td>\n",
              "      <td>40.0</td>\n",
              "      <td>NaN</td>\n",
              "      <td>NaN</td>\n",
              "      <td>NaN</td>\n",
              "      <td>NaN</td>\n",
              "      <td>36.0</td>\n",
              "      <td>134.0</td>\n",
              "      <td>39.3</td>\n",
              "      <td>...</td>\n",
              "      <td>0.0</td>\n",
              "      <td>0.0</td>\n",
              "      <td>0.0</td>\n",
              "      <td>0.0</td>\n",
              "      <td>0.0</td>\n",
              "      <td>0.0</td>\n",
              "      <td>0.0</td>\n",
              "      <td>0.0</td>\n",
              "      <td>0.0</td>\n",
              "      <td>0.0</td>\n",
              "      <td>0.0</td>\n",
              "      <td>0.0</td>\n",
              "      <td>0.0</td>\n",
              "      <td>0.0</td>\n",
              "      <td>0.0</td>\n",
              "      <td>0.0</td>\n",
              "      <td>0.0</td>\n",
              "      <td>0.0</td>\n",
              "      <td>0.0</td>\n",
              "      <td>0.0</td>\n",
              "      <td>0.0</td>\n",
              "      <td>0.0</td>\n",
              "      <td>0.0</td>\n",
              "      <td>0.0</td>\n",
              "      <td>0.0</td>\n",
              "      <td>0.0</td>\n",
              "      <td>0.0</td>\n",
              "      <td>0.0</td>\n",
              "      <td>0.0</td>\n",
              "      <td>0.0</td>\n",
              "      <td>0.0</td>\n",
              "      <td>0.0</td>\n",
              "      <td>0.0</td>\n",
              "      <td>0.0</td>\n",
              "      <td>0.0</td>\n",
              "      <td>0.0</td>\n",
              "      <td>0.0</td>\n",
              "      <td>0.0</td>\n",
              "      <td>0.0</td>\n",
              "      <td>0.0</td>\n",
              "    </tr>\n",
              "    <tr>\n",
              "      <th>1</th>\n",
              "      <td>2</td>\n",
              "      <td>77.0</td>\n",
              "      <td>27.421875</td>\n",
              "      <td>0</td>\n",
              "      <td>Caucasian</td>\n",
              "      <td>F</td>\n",
              "      <td>160.0</td>\n",
              "      <td>Floor</td>\n",
              "      <td>Floor</td>\n",
              "      <td>90</td>\n",
              "      <td>admit</td>\n",
              "      <td>Med-Surg ICU</td>\n",
              "      <td>0.927778</td>\n",
              "      <td>0</td>\n",
              "      <td>70.2</td>\n",
              "      <td>NaN</td>\n",
              "      <td>108.0</td>\n",
              "      <td>203.01</td>\n",
              "      <td>0</td>\n",
              "      <td>0</td>\n",
              "      <td>NaN</td>\n",
              "      <td>9.0</td>\n",
              "      <td>0.56</td>\n",
              "      <td>1.0</td>\n",
              "      <td>1.0</td>\n",
              "      <td>3.0</td>\n",
              "      <td>0.0</td>\n",
              "      <td>1.0</td>\n",
              "      <td>145.0</td>\n",
              "      <td>120.0</td>\n",
              "      <td>36.9</td>\n",
              "      <td>0</td>\n",
              "      <td>46.0</td>\n",
              "      <td>37.0</td>\n",
              "      <td>37.0</td>\n",
              "      <td>51.0</td>\n",
              "      <td>7.45</td>\n",
              "      <td>33.0</td>\n",
              "      <td>145.0</td>\n",
              "      <td>35.1</td>\n",
              "      <td>...</td>\n",
              "      <td>1.0</td>\n",
              "      <td>1.0</td>\n",
              "      <td>1.0</td>\n",
              "      <td>1.0</td>\n",
              "      <td>1.0</td>\n",
              "      <td>1.0</td>\n",
              "      <td>1.0</td>\n",
              "      <td>1.0</td>\n",
              "      <td>1.0</td>\n",
              "      <td>1.0</td>\n",
              "      <td>1.0</td>\n",
              "      <td>1.0</td>\n",
              "      <td>1.0</td>\n",
              "      <td>1.0</td>\n",
              "      <td>1.0</td>\n",
              "      <td>1.0</td>\n",
              "      <td>1.0</td>\n",
              "      <td>1.0</td>\n",
              "      <td>1.0</td>\n",
              "      <td>1.0</td>\n",
              "      <td>1.0</td>\n",
              "      <td>1.0</td>\n",
              "      <td>1.0</td>\n",
              "      <td>1.0</td>\n",
              "      <td>1.0</td>\n",
              "      <td>1.0</td>\n",
              "      <td>1.0</td>\n",
              "      <td>1.0</td>\n",
              "      <td>1.0</td>\n",
              "      <td>1.0</td>\n",
              "      <td>1.0</td>\n",
              "      <td>1.0</td>\n",
              "      <td>1.0</td>\n",
              "      <td>1.0</td>\n",
              "      <td>1.0</td>\n",
              "      <td>1.0</td>\n",
              "      <td>1.0</td>\n",
              "      <td>1.0</td>\n",
              "      <td>1.0</td>\n",
              "      <td>1.0</td>\n",
              "    </tr>\n",
              "    <tr>\n",
              "      <th>2</th>\n",
              "      <td>3</td>\n",
              "      <td>25.0</td>\n",
              "      <td>31.952749</td>\n",
              "      <td>0</td>\n",
              "      <td>Caucasian</td>\n",
              "      <td>F</td>\n",
              "      <td>172.7</td>\n",
              "      <td>Emergency Department</td>\n",
              "      <td>Accident &amp; Emergency</td>\n",
              "      <td>93</td>\n",
              "      <td>admit</td>\n",
              "      <td>Med-Surg ICU</td>\n",
              "      <td>0.000694</td>\n",
              "      <td>0</td>\n",
              "      <td>95.3</td>\n",
              "      <td>NaN</td>\n",
              "      <td>122.0</td>\n",
              "      <td>703.03</td>\n",
              "      <td>0</td>\n",
              "      <td>0</td>\n",
              "      <td>NaN</td>\n",
              "      <td>NaN</td>\n",
              "      <td>NaN</td>\n",
              "      <td>NaN</td>\n",
              "      <td>3.0</td>\n",
              "      <td>6.0</td>\n",
              "      <td>0.0</td>\n",
              "      <td>5.0</td>\n",
              "      <td>NaN</td>\n",
              "      <td>102.0</td>\n",
              "      <td>NaN</td>\n",
              "      <td>0</td>\n",
              "      <td>68.0</td>\n",
              "      <td>NaN</td>\n",
              "      <td>NaN</td>\n",
              "      <td>NaN</td>\n",
              "      <td>NaN</td>\n",
              "      <td>37.0</td>\n",
              "      <td>NaN</td>\n",
              "      <td>36.7</td>\n",
              "      <td>...</td>\n",
              "      <td>0.0</td>\n",
              "      <td>0.0</td>\n",
              "      <td>0.0</td>\n",
              "      <td>0.0</td>\n",
              "      <td>0.0</td>\n",
              "      <td>0.0</td>\n",
              "      <td>0.0</td>\n",
              "      <td>0.0</td>\n",
              "      <td>0.0</td>\n",
              "      <td>0.0</td>\n",
              "      <td>0.0</td>\n",
              "      <td>0.0</td>\n",
              "      <td>0.0</td>\n",
              "      <td>0.0</td>\n",
              "      <td>0.0</td>\n",
              "      <td>0.0</td>\n",
              "      <td>0.0</td>\n",
              "      <td>0.0</td>\n",
              "      <td>0.0</td>\n",
              "      <td>0.0</td>\n",
              "      <td>0.0</td>\n",
              "      <td>0.0</td>\n",
              "      <td>0.0</td>\n",
              "      <td>0.0</td>\n",
              "      <td>0.0</td>\n",
              "      <td>0.0</td>\n",
              "      <td>0.0</td>\n",
              "      <td>0.0</td>\n",
              "      <td>0.0</td>\n",
              "      <td>0.0</td>\n",
              "      <td>0.0</td>\n",
              "      <td>0.0</td>\n",
              "      <td>0.0</td>\n",
              "      <td>0.0</td>\n",
              "      <td>0.0</td>\n",
              "      <td>0.0</td>\n",
              "      <td>0.0</td>\n",
              "      <td>0.0</td>\n",
              "      <td>0.0</td>\n",
              "      <td>0.0</td>\n",
              "    </tr>\n",
              "    <tr>\n",
              "      <th>3</th>\n",
              "      <td>4</td>\n",
              "      <td>81.0</td>\n",
              "      <td>22.635548</td>\n",
              "      <td>1</td>\n",
              "      <td>Caucasian</td>\n",
              "      <td>F</td>\n",
              "      <td>165.1</td>\n",
              "      <td>Operating Room</td>\n",
              "      <td>Operating Room / Recovery</td>\n",
              "      <td>92</td>\n",
              "      <td>admit</td>\n",
              "      <td>CTICU</td>\n",
              "      <td>0.000694</td>\n",
              "      <td>0</td>\n",
              "      <td>61.7</td>\n",
              "      <td>NaN</td>\n",
              "      <td>203.0</td>\n",
              "      <td>1206.03</td>\n",
              "      <td>1</td>\n",
              "      <td>0</td>\n",
              "      <td>NaN</td>\n",
              "      <td>NaN</td>\n",
              "      <td>NaN</td>\n",
              "      <td>0.6</td>\n",
              "      <td>4.0</td>\n",
              "      <td>6.0</td>\n",
              "      <td>0.0</td>\n",
              "      <td>5.0</td>\n",
              "      <td>185.0</td>\n",
              "      <td>114.0</td>\n",
              "      <td>25.9</td>\n",
              "      <td>1</td>\n",
              "      <td>60.0</td>\n",
              "      <td>30.0</td>\n",
              "      <td>30.0</td>\n",
              "      <td>142.0</td>\n",
              "      <td>7.39</td>\n",
              "      <td>4.0</td>\n",
              "      <td>NaN</td>\n",
              "      <td>34.8</td>\n",
              "      <td>...</td>\n",
              "      <td>0.0</td>\n",
              "      <td>0.0</td>\n",
              "      <td>0.0</td>\n",
              "      <td>0.0</td>\n",
              "      <td>0.0</td>\n",
              "      <td>0.0</td>\n",
              "      <td>0.0</td>\n",
              "      <td>0.0</td>\n",
              "      <td>1.0</td>\n",
              "      <td>1.0</td>\n",
              "      <td>1.0</td>\n",
              "      <td>1.0</td>\n",
              "      <td>1.0</td>\n",
              "      <td>1.0</td>\n",
              "      <td>0.0</td>\n",
              "      <td>0.0</td>\n",
              "      <td>1.0</td>\n",
              "      <td>1.0</td>\n",
              "      <td>0.0</td>\n",
              "      <td>0.0</td>\n",
              "      <td>0.0</td>\n",
              "      <td>0.0</td>\n",
              "      <td>1.0</td>\n",
              "      <td>1.0</td>\n",
              "      <td>1.0</td>\n",
              "      <td>1.0</td>\n",
              "      <td>1.0</td>\n",
              "      <td>1.0</td>\n",
              "      <td>1.0</td>\n",
              "      <td>1.0</td>\n",
              "      <td>1.0</td>\n",
              "      <td>1.0</td>\n",
              "      <td>1.0</td>\n",
              "      <td>1.0</td>\n",
              "      <td>1.0</td>\n",
              "      <td>1.0</td>\n",
              "      <td>1.0</td>\n",
              "      <td>1.0</td>\n",
              "      <td>1.0</td>\n",
              "      <td>1.0</td>\n",
              "    </tr>\n",
              "    <tr>\n",
              "      <th>4</th>\n",
              "      <td>5</td>\n",
              "      <td>19.0</td>\n",
              "      <td>NaN</td>\n",
              "      <td>0</td>\n",
              "      <td>Caucasian</td>\n",
              "      <td>M</td>\n",
              "      <td>188.0</td>\n",
              "      <td>NaN</td>\n",
              "      <td>Accident &amp; Emergency</td>\n",
              "      <td>91</td>\n",
              "      <td>admit</td>\n",
              "      <td>Med-Surg ICU</td>\n",
              "      <td>0.073611</td>\n",
              "      <td>0</td>\n",
              "      <td>NaN</td>\n",
              "      <td>NaN</td>\n",
              "      <td>119.0</td>\n",
              "      <td>601.01</td>\n",
              "      <td>0</td>\n",
              "      <td>0</td>\n",
              "      <td>NaN</td>\n",
              "      <td>NaN</td>\n",
              "      <td>NaN</td>\n",
              "      <td>NaN</td>\n",
              "      <td>NaN</td>\n",
              "      <td>NaN</td>\n",
              "      <td>NaN</td>\n",
              "      <td>NaN</td>\n",
              "      <td>NaN</td>\n",
              "      <td>60.0</td>\n",
              "      <td>NaN</td>\n",
              "      <td>0</td>\n",
              "      <td>103.0</td>\n",
              "      <td>NaN</td>\n",
              "      <td>NaN</td>\n",
              "      <td>NaN</td>\n",
              "      <td>NaN</td>\n",
              "      <td>16.0</td>\n",
              "      <td>NaN</td>\n",
              "      <td>36.7</td>\n",
              "      <td>...</td>\n",
              "      <td>0.0</td>\n",
              "      <td>0.0</td>\n",
              "      <td>0.0</td>\n",
              "      <td>0.0</td>\n",
              "      <td>0.0</td>\n",
              "      <td>0.0</td>\n",
              "      <td>0.0</td>\n",
              "      <td>0.0</td>\n",
              "      <td>0.0</td>\n",
              "      <td>0.0</td>\n",
              "      <td>0.0</td>\n",
              "      <td>0.0</td>\n",
              "      <td>0.0</td>\n",
              "      <td>0.0</td>\n",
              "      <td>0.0</td>\n",
              "      <td>0.0</td>\n",
              "      <td>0.0</td>\n",
              "      <td>0.0</td>\n",
              "      <td>0.0</td>\n",
              "      <td>0.0</td>\n",
              "      <td>0.0</td>\n",
              "      <td>0.0</td>\n",
              "      <td>0.0</td>\n",
              "      <td>0.0</td>\n",
              "      <td>0.0</td>\n",
              "      <td>0.0</td>\n",
              "      <td>0.0</td>\n",
              "      <td>0.0</td>\n",
              "      <td>0.0</td>\n",
              "      <td>0.0</td>\n",
              "      <td>0.0</td>\n",
              "      <td>0.0</td>\n",
              "      <td>0.0</td>\n",
              "      <td>0.0</td>\n",
              "      <td>0.0</td>\n",
              "      <td>0.0</td>\n",
              "      <td>0.0</td>\n",
              "      <td>0.0</td>\n",
              "      <td>0.0</td>\n",
              "      <td>0.0</td>\n",
              "    </tr>\n",
              "  </tbody>\n",
              "</table>\n",
              "<p>5 rows × 334 columns</p>\n",
              "</div>"
            ],
            "text/plain": [
              "   Unnamed: 0   age  ...  h1_pao2fio2ratio_max_0_1  h1_pao2fio2ratio_min_0_1\n",
              "0           1  68.0  ...                       0.0                       0.0\n",
              "1           2  77.0  ...                       1.0                       1.0\n",
              "2           3  25.0  ...                       0.0                       0.0\n",
              "3           4  81.0  ...                       1.0                       1.0\n",
              "4           5  19.0  ...                       0.0                       0.0\n",
              "\n",
              "[5 rows x 334 columns]"
            ]
          },
          "metadata": {
            "tags": []
          },
          "execution_count": 202
        }
      ]
    },
    {
      "cell_type": "code",
      "metadata": {
        "id": "v4GOBkkijnw5"
      },
      "source": [
        ""
      ],
      "execution_count": null,
      "outputs": []
    }
  ]
}