{
  "nbformat": 4,
  "nbformat_minor": 0,
  "metadata": {
    "colab": {
      "name": "pre_processing.ipynb",
      "provenance": [],
      "collapsed_sections": [],
      "toc_visible": true,
      "authorship_tag": "ABX9TyOgptXhr3I/A7QjUsPBI3GE",
      "include_colab_link": true
    },
    "kernelspec": {
      "name": "python3",
      "display_name": "Python 3"
    }
  },
  "cells": [
    {
      "cell_type": "markdown",
      "metadata": {
        "id": "view-in-github",
        "colab_type": "text"
      },
      "source": [
        "<a href=\"https://colab.research.google.com/github/DaisyXinyiHe/diabetes_mellitus_predict/blob/pre_processing/pre_processing.ipynb\" target=\"_parent\"><img src=\"https://colab.research.google.com/assets/colab-badge.svg\" alt=\"Open In Colab\"/></a>"
      ]
    },
    {
      "cell_type": "markdown",
      "metadata": {
        "id": "iOgzJVbpLpLS"
      },
      "source": [
        "# Load data\n",
        "\n",
        "## Execute this if using google colab and connecting it with google drive\n",
        "## If not using google colab, navigate the script to your local drive"
      ]
    },
    {
      "cell_type": "code",
      "metadata": {
        "colab": {
          "base_uri": "https://localhost:8080/"
        },
        "id": "_qzJTFzILTki",
        "outputId": "7d906dc7-2f12-453f-a2ec-aa58a23570bd"
      },
      "source": [
        "from google.colab import drive\n",
        "drive.mount('/content/drive')"
      ],
      "execution_count": 1,
      "outputs": [
        {
          "output_type": "stream",
          "text": [
            "Mounted at /content/drive\n"
          ],
          "name": "stdout"
        }
      ]
    },
    {
      "cell_type": "code",
      "metadata": {
        "colab": {
          "base_uri": "https://localhost:8080/"
        },
        "id": "n5hQlcoGL3nm",
        "outputId": "11693d8c-f136-455f-c0a3-683460598f87"
      },
      "source": [
        "# Navigate data to its location\n",
        "%cd /content/drive/MyDrive/Colab Notebooks/WiDS_2021"
      ],
      "execution_count": 2,
      "outputs": [
        {
          "output_type": "stream",
          "text": [
            "/content/drive/MyDrive/Colab Notebooks/WiDS_2021\n"
          ],
          "name": "stdout"
        }
      ]
    },
    {
      "cell_type": "code",
      "metadata": {
        "id": "ZB5BKt9zkbKz"
      },
      "source": [
        "# Load libraries\n",
        "import numpy as np\n",
        "import pandas as pd"
      ],
      "execution_count": 3,
      "outputs": []
    },
    {
      "cell_type": "code",
      "metadata": {
        "id": "CL0hF4s_Mych"
      },
      "source": [
        "# load training data\n",
        "\n",
        "training_data = pd.read_csv('TrainingWiDS2021.csv')"
      ],
      "execution_count": 109,
      "outputs": []
    },
    {
      "cell_type": "code",
      "metadata": {
        "id": "tFkoCLvgNF_2",
        "colab": {
          "base_uri": "https://localhost:8080/"
        },
        "outputId": "31eea26a-cda3-40db-ea98-44a719e1e295"
      },
      "source": [
        "# Explore dataset\n",
        "print(training_data.head(1))\n",
        "print('training data size is:', training_data.shape)"
      ],
      "execution_count": 110,
      "outputs": [
        {
          "output_type": "stream",
          "text": [
            "   Unnamed: 0  encounter_id  ...  solid_tumor_with_metastasis  diabetes_mellitus\n",
            "0           1        214826  ...                            0                  1\n",
            "\n",
            "[1 rows x 181 columns]\n",
            "training data size is: (130157, 181)\n"
          ],
          "name": "stdout"
        }
      ]
    },
    {
      "cell_type": "code",
      "metadata": {
        "colab": {
          "base_uri": "https://localhost:8080/"
        },
        "id": "UAsVVswhcuS9",
        "outputId": "c9158819-314a-45e6-9d72-ac63effbdb49"
      },
      "source": [
        "# Check if feature variables have NA values\n",
        "training_data = training_data.iloc[:,1:]\n",
        "training_data.isnull().any()"
      ],
      "execution_count": 111,
      "outputs": [
        {
          "output_type": "execute_result",
          "data": {
            "text/plain": [
              "encounter_id                   False\n",
              "hospital_id                    False\n",
              "age                             True\n",
              "bmi                             True\n",
              "elective_surgery               False\n",
              "                               ...  \n",
              "immunosuppression              False\n",
              "leukemia                       False\n",
              "lymphoma                       False\n",
              "solid_tumor_with_metastasis    False\n",
              "diabetes_mellitus              False\n",
              "Length: 180, dtype: bool"
            ]
          },
          "metadata": {
            "tags": []
          },
          "execution_count": 111
        }
      ]
    },
    {
      "cell_type": "code",
      "metadata": {
        "colab": {
          "base_uri": "https://localhost:8080/"
        },
        "id": "6eH4qYsMj04j",
        "outputId": "776e8ee9-1b47-4485-ac6c-6eccd2c96067"
      },
      "source": [
        "# check data types\n",
        "print(training_data.dtypes)"
      ],
      "execution_count": 112,
      "outputs": [
        {
          "output_type": "stream",
          "text": [
            "encounter_id                     int64\n",
            "hospital_id                      int64\n",
            "age                            float64\n",
            "bmi                            float64\n",
            "elective_surgery                 int64\n",
            "                                ...   \n",
            "immunosuppression                int64\n",
            "leukemia                         int64\n",
            "lymphoma                         int64\n",
            "solid_tumor_with_metastasis      int64\n",
            "diabetes_mellitus                int64\n",
            "Length: 180, dtype: object\n"
          ],
          "name": "stdout"
        }
      ]
    },
    {
      "cell_type": "code",
      "metadata": {
        "colab": {
          "base_uri": "https://localhost:8080/"
        },
        "id": "U-gHiryNkFmd",
        "outputId": "6acdd08c-1050-48cc-c9d6-f0c8a708244c"
      },
      "source": [
        "# check how many unique data types is in training_data\n",
        "np.unique(training_data.dtypes)"
      ],
      "execution_count": 113,
      "outputs": [
        {
          "output_type": "execute_result",
          "data": {
            "text/plain": [
              "array([dtype('int64'), dtype('float64'), dtype('O')], dtype=object)"
            ]
          },
          "metadata": {
            "tags": []
          },
          "execution_count": 113
        }
      ]
    },
    {
      "cell_type": "code",
      "metadata": {
        "colab": {
          "base_uri": "https://localhost:8080/"
        },
        "id": "_rI7m3JJlN-h",
        "outputId": "a2fb5f32-aad1-447d-a4ad-5c3d2cb28a7c"
      },
      "source": [
        "# Check categorical data\n",
        "for c in training_data.columns:\n",
        "  if training_data[c].dtypes == np.dtype('O'):\n",
        "      print(c)"
      ],
      "execution_count": 114,
      "outputs": [
        {
          "output_type": "stream",
          "text": [
            "ethnicity\n",
            "gender\n",
            "hospital_admit_source\n",
            "icu_admit_source\n",
            "icu_stay_type\n",
            "icu_type\n"
          ],
          "name": "stdout"
        }
      ]
    },
    {
      "cell_type": "code",
      "metadata": {
        "colab": {
          "base_uri": "https://localhost:8080/"
        },
        "id": "EgDSvwycdRX8",
        "outputId": "6de6f355-7fa2-4ae5-cae2-9a18edb476f8"
      },
      "source": [
        "# Check if independent variable have nan\n",
        "print(training_data['diabetes_mellitus'].isnull().any)"
      ],
      "execution_count": 115,
      "outputs": [
        {
          "output_type": "stream",
          "text": [
            "<bound method Series.any of 0         False\n",
            "1         False\n",
            "2         False\n",
            "3         False\n",
            "4         False\n",
            "          ...  \n",
            "130152    False\n",
            "130153    False\n",
            "130154    False\n",
            "130155    False\n",
            "130156    False\n",
            "Name: diabetes_mellitus, Length: 130157, dtype: bool>\n"
          ],
          "name": "stdout"
        }
      ]
    },
    {
      "cell_type": "code",
      "metadata": {
        "colab": {
          "base_uri": "https://localhost:8080/"
        },
        "id": "Rqgi-El_cwMd",
        "outputId": "2909002c-6232-40e4-9c4f-a84fe13238dc"
      },
      "source": [
        "print(training_data.columns)"
      ],
      "execution_count": 116,
      "outputs": [
        {
          "output_type": "stream",
          "text": [
            "Index(['encounter_id', 'hospital_id', 'age', 'bmi', 'elective_surgery',\n",
            "       'ethnicity', 'gender', 'height', 'hospital_admit_source',\n",
            "       'icu_admit_source',\n",
            "       ...\n",
            "       'h1_pao2fio2ratio_max', 'h1_pao2fio2ratio_min', 'aids', 'cirrhosis',\n",
            "       'hepatic_failure', 'immunosuppression', 'leukemia', 'lymphoma',\n",
            "       'solid_tumor_with_metastasis', 'diabetes_mellitus'],\n",
            "      dtype='object', length=180)\n"
          ],
          "name": "stdout"
        }
      ]
    },
    {
      "cell_type": "code",
      "metadata": {
        "id": "I99h3Ar7RQ6Q"
      },
      "source": [
        "# Assumming we want to keep all variables as predictors, \n",
        "# we need to create dummy variable all variables with NA values,  \n",
        "# and change NA values to 0\n",
        "# # Only do it to non-string variable for now\n",
        "# Exclude ids and diabetes mellitus\n",
        "for c in training_data.columns[3:]:\n",
        "  if training_data[c].isnull().any() and training_data[c].dtypes != np.dtype('O'):\n",
        "\n",
        "\n",
        "    newcol = c+'_0_1'\n",
        "    newcol_value = np.array(training_data[c])\n",
        "\n",
        "\n",
        "    nanindex = training_data[c].index[training_data[c].apply(np.isnan)]\n",
        "\n",
        "    newcol_value[nanindex] = 0\n",
        "\n",
        "    newcol_value[newcol_value!= 0]  = 1\n",
        "\n",
        "    training_data[str(newcol)] = newcol_value\n"
      ],
      "execution_count": 117,
      "outputs": []
    },
    {
      "cell_type": "code",
      "metadata": {
        "colab": {
          "base_uri": "https://localhost:8080/"
        },
        "id": "qaRuwQ5udl53",
        "outputId": "d9d88f94-dada-4b1a-c718-af244629bc4c"
      },
      "source": [
        "print(training_data.columns)"
      ],
      "execution_count": 118,
      "outputs": [
        {
          "output_type": "stream",
          "text": [
            "Index(['encounter_id', 'hospital_id', 'age', 'bmi', 'elective_surgery',\n",
            "       'ethnicity', 'gender', 'height', 'hospital_admit_source',\n",
            "       'icu_admit_source',\n",
            "       ...\n",
            "       'd1_pao2fio2ratio_max_0_1', 'd1_pao2fio2ratio_min_0_1',\n",
            "       'h1_arterial_pco2_max_0_1', 'h1_arterial_pco2_min_0_1',\n",
            "       'h1_arterial_ph_max_0_1', 'h1_arterial_ph_min_0_1',\n",
            "       'h1_arterial_po2_max_0_1', 'h1_arterial_po2_min_0_1',\n",
            "       'h1_pao2fio2ratio_max_0_1', 'h1_pao2fio2ratio_min_0_1'],\n",
            "      dtype='object', length=335)\n"
          ],
          "name": "stdout"
        }
      ]
    },
    {
      "cell_type": "code",
      "metadata": {
        "id": "op29o2Abno0v",
        "colab": {
          "base_uri": "https://localhost:8080/"
        },
        "outputId": "09b0a244-56e7-45dd-af9a-461545f1cab3"
      },
      "source": [
        "# # Check categorical data (e.g. ethnicity or dtype('O'))\n",
        "for c in training_data.columns:\n",
        "  if training_data[c].isnull().any() and training_data[c].dtypes == np.dtype('O'):\n",
        "    print(c)\n",
        "    print(training_data[c].unique())\n",
        "    print(len(training_data[c].index[training_data[c].apply(pd.isnull)]))"
      ],
      "execution_count": 119,
      "outputs": [
        {
          "output_type": "stream",
          "text": [
            "ethnicity\n",
            "['Caucasian' nan 'Hispanic' 'African American' 'Asian' 'Native American'\n",
            " 'Other/Unknown']\n",
            "1587\n",
            "gender\n",
            "['M' 'F' nan]\n",
            "66\n",
            "hospital_admit_source\n",
            "['Floor' 'Emergency Department' 'Operating Room' nan 'Direct Admit'\n",
            " 'Other Hospital' 'Other ICU' 'ICU to SDU' 'Recovery Room'\n",
            " 'Chest Pain Center' 'Step-Down Unit (SDU)' 'Acute Care/Floor' 'PACU'\n",
            " 'Observation' 'ICU' 'Other']\n",
            "33198\n",
            "icu_admit_source\n",
            "['Floor' 'Accident & Emergency' 'Operating Room / Recovery'\n",
            " 'Other Hospital' 'Other ICU' nan]\n",
            "240\n"
          ],
          "name": "stdout"
        }
      ]
    },
    {
      "cell_type": "code",
      "metadata": {
        "id": "QoIKYW4Sglfm"
      },
      "source": [
        "# Taking out \"hospital_admit_source\" and \"icu_admit_source\" because they don't seem to be relevant \n",
        "# to the prediction of diabete mellitus, and they have a lot of missing data\n",
        "training_data = training_data.drop(columns=['icu_admit_source', 'hospital_admit_source'])\n"
      ],
      "execution_count": 120,
      "outputs": []
    },
    {
      "cell_type": "code",
      "metadata": {
        "id": "v4GOBkkijnw5",
        "colab": {
          "base_uri": "https://localhost:8080/"
        },
        "outputId": "0083e76c-d24c-48e5-d65d-9b43f880b2b6"
      },
      "source": [
        "# Putting all \"nan\" in ethnicity to \"other/unknown\"\n",
        "nanindex = training_data['ethnicity'].index[training_data['ethnicity'].apply(pd.isnull)]\n",
        "training_data['ethnicity'].iloc[nanindex] = 'Other/Unknown'\n"
      ],
      "execution_count": 121,
      "outputs": [
        {
          "output_type": "stream",
          "text": [
            "/usr/local/lib/python3.6/dist-packages/pandas/core/indexing.py:670: SettingWithCopyWarning: \n",
            "A value is trying to be set on a copy of a slice from a DataFrame\n",
            "\n",
            "See the caveats in the documentation: https://pandas.pydata.org/pandas-docs/stable/user_guide/indexing.html#returning-a-view-versus-a-copy\n",
            "  iloc._setitem_with_indexer(indexer, value)\n"
          ],
          "name": "stderr"
        }
      ]
    },
    {
      "cell_type": "code",
      "metadata": {
        "colab": {
          "base_uri": "https://localhost:8080/"
        },
        "id": "GUFa0NWwjK1P",
        "outputId": "4ce1c12c-7bb5-49a8-e9c0-39a8ee6883d2"
      },
      "source": [
        "# Delete the rows if they have nan values in \"gender\". This is only 66 rows\n",
        "nanindex = training_data['gender'].index[training_data['gender'].apply(pd.isnull)]\n",
        "training_data = training_data.drop(nanindex)\n",
        "print(training_data.shape)\n"
      ],
      "execution_count": 122,
      "outputs": [
        {
          "output_type": "stream",
          "text": [
            "(130091, 333)\n"
          ],
          "name": "stdout"
        }
      ]
    },
    {
      "cell_type": "code",
      "metadata": {
        "colab": {
          "base_uri": "https://localhost:8080/"
        },
        "id": "9I35SqoAlYbR",
        "outputId": "477848c5-2afd-47d1-9a5d-488d7b97a6b1"
      },
      "source": [
        "# Check all current categorical data\n",
        "for c in training_data.columns:\n",
        "  if training_data[c].dtypes == np.dtype('O'):\n",
        "      print(c)\n",
        "\n"
      ],
      "execution_count": 123,
      "outputs": [
        {
          "output_type": "stream",
          "text": [
            "ethnicity\n",
            "gender\n",
            "icu_stay_type\n",
            "icu_type\n"
          ],
          "name": "stdout"
        }
      ]
    },
    {
      "cell_type": "code",
      "metadata": {
        "id": "FHzKx1Qtm-Uw"
      },
      "source": [
        "# Get dummy variable for categorical data\n",
        "# dummy_v = pd.get_dummies(training_data[['ethnicity','gender','icu_stay_type','icu_type']],drop_first=True)\n",
        "training_data = pd.get_dummies(data=training_data, columns=['ethnicity','gender','icu_stay_type','icu_type'])"
      ],
      "execution_count": 125,
      "outputs": []
    },
    {
      "cell_type": "code",
      "metadata": {
        "colab": {
          "base_uri": "https://localhost:8080/",
          "height": 270
        },
        "id": "ebOTt-2-iyNT",
        "outputId": "659540a3-c242-4f93-9c7b-d852694fcdf3"
      },
      "source": [
        "training_data.head(5)"
      ],
      "execution_count": 126,
      "outputs": [
        {
          "output_type": "execute_result",
          "data": {
            "text/html": [
              "<div>\n",
              "<style scoped>\n",
              "    .dataframe tbody tr th:only-of-type {\n",
              "        vertical-align: middle;\n",
              "    }\n",
              "\n",
              "    .dataframe tbody tr th {\n",
              "        vertical-align: top;\n",
              "    }\n",
              "\n",
              "    .dataframe thead th {\n",
              "        text-align: right;\n",
              "    }\n",
              "</style>\n",
              "<table border=\"1\" class=\"dataframe\">\n",
              "  <thead>\n",
              "    <tr style=\"text-align: right;\">\n",
              "      <th></th>\n",
              "      <th>encounter_id</th>\n",
              "      <th>hospital_id</th>\n",
              "      <th>age</th>\n",
              "      <th>bmi</th>\n",
              "      <th>elective_surgery</th>\n",
              "      <th>height</th>\n",
              "      <th>icu_id</th>\n",
              "      <th>pre_icu_los_days</th>\n",
              "      <th>readmission_status</th>\n",
              "      <th>weight</th>\n",
              "      <th>albumin_apache</th>\n",
              "      <th>apache_2_diagnosis</th>\n",
              "      <th>apache_3j_diagnosis</th>\n",
              "      <th>apache_post_operative</th>\n",
              "      <th>arf_apache</th>\n",
              "      <th>bilirubin_apache</th>\n",
              "      <th>bun_apache</th>\n",
              "      <th>creatinine_apache</th>\n",
              "      <th>fio2_apache</th>\n",
              "      <th>gcs_eyes_apache</th>\n",
              "      <th>gcs_motor_apache</th>\n",
              "      <th>gcs_unable_apache</th>\n",
              "      <th>gcs_verbal_apache</th>\n",
              "      <th>glucose_apache</th>\n",
              "      <th>heart_rate_apache</th>\n",
              "      <th>hematocrit_apache</th>\n",
              "      <th>intubated_apache</th>\n",
              "      <th>map_apache</th>\n",
              "      <th>paco2_apache</th>\n",
              "      <th>paco2_for_ph_apache</th>\n",
              "      <th>pao2_apache</th>\n",
              "      <th>ph_apache</th>\n",
              "      <th>resprate_apache</th>\n",
              "      <th>sodium_apache</th>\n",
              "      <th>temp_apache</th>\n",
              "      <th>urineoutput_apache</th>\n",
              "      <th>ventilated_apache</th>\n",
              "      <th>wbc_apache</th>\n",
              "      <th>d1_diasbp_invasive_max</th>\n",
              "      <th>d1_diasbp_invasive_min</th>\n",
              "      <th>...</th>\n",
              "      <th>h1_potassium_min_0_1</th>\n",
              "      <th>h1_sodium_max_0_1</th>\n",
              "      <th>h1_sodium_min_0_1</th>\n",
              "      <th>h1_wbc_max_0_1</th>\n",
              "      <th>h1_wbc_min_0_1</th>\n",
              "      <th>d1_arterial_pco2_max_0_1</th>\n",
              "      <th>d1_arterial_pco2_min_0_1</th>\n",
              "      <th>d1_arterial_ph_max_0_1</th>\n",
              "      <th>d1_arterial_ph_min_0_1</th>\n",
              "      <th>d1_arterial_po2_max_0_1</th>\n",
              "      <th>d1_arterial_po2_min_0_1</th>\n",
              "      <th>d1_pao2fio2ratio_max_0_1</th>\n",
              "      <th>d1_pao2fio2ratio_min_0_1</th>\n",
              "      <th>h1_arterial_pco2_max_0_1</th>\n",
              "      <th>h1_arterial_pco2_min_0_1</th>\n",
              "      <th>h1_arterial_ph_max_0_1</th>\n",
              "      <th>h1_arterial_ph_min_0_1</th>\n",
              "      <th>h1_arterial_po2_max_0_1</th>\n",
              "      <th>h1_arterial_po2_min_0_1</th>\n",
              "      <th>h1_pao2fio2ratio_max_0_1</th>\n",
              "      <th>h1_pao2fio2ratio_min_0_1</th>\n",
              "      <th>ethnicity_African American</th>\n",
              "      <th>ethnicity_Asian</th>\n",
              "      <th>ethnicity_Caucasian</th>\n",
              "      <th>ethnicity_Hispanic</th>\n",
              "      <th>ethnicity_Native American</th>\n",
              "      <th>ethnicity_Other/Unknown</th>\n",
              "      <th>gender_F</th>\n",
              "      <th>gender_M</th>\n",
              "      <th>icu_stay_type_admit</th>\n",
              "      <th>icu_stay_type_readmit</th>\n",
              "      <th>icu_stay_type_transfer</th>\n",
              "      <th>icu_type_CCU-CTICU</th>\n",
              "      <th>icu_type_CSICU</th>\n",
              "      <th>icu_type_CTICU</th>\n",
              "      <th>icu_type_Cardiac ICU</th>\n",
              "      <th>icu_type_MICU</th>\n",
              "      <th>icu_type_Med-Surg ICU</th>\n",
              "      <th>icu_type_Neuro ICU</th>\n",
              "      <th>icu_type_SICU</th>\n",
              "    </tr>\n",
              "  </thead>\n",
              "  <tbody>\n",
              "    <tr>\n",
              "      <th>0</th>\n",
              "      <td>214826</td>\n",
              "      <td>118</td>\n",
              "      <td>68.0</td>\n",
              "      <td>22.732803</td>\n",
              "      <td>0</td>\n",
              "      <td>180.3</td>\n",
              "      <td>92</td>\n",
              "      <td>0.541667</td>\n",
              "      <td>0</td>\n",
              "      <td>73.9</td>\n",
              "      <td>2.3</td>\n",
              "      <td>113.0</td>\n",
              "      <td>502.01</td>\n",
              "      <td>0</td>\n",
              "      <td>0</td>\n",
              "      <td>0.4</td>\n",
              "      <td>31.0</td>\n",
              "      <td>2.51</td>\n",
              "      <td>NaN</td>\n",
              "      <td>3.0</td>\n",
              "      <td>6.0</td>\n",
              "      <td>0.0</td>\n",
              "      <td>4.0</td>\n",
              "      <td>168.0</td>\n",
              "      <td>118.0</td>\n",
              "      <td>27.4</td>\n",
              "      <td>0</td>\n",
              "      <td>40.0</td>\n",
              "      <td>NaN</td>\n",
              "      <td>NaN</td>\n",
              "      <td>NaN</td>\n",
              "      <td>NaN</td>\n",
              "      <td>36.0</td>\n",
              "      <td>134.0</td>\n",
              "      <td>39.3</td>\n",
              "      <td>NaN</td>\n",
              "      <td>0</td>\n",
              "      <td>14.1</td>\n",
              "      <td>46.0</td>\n",
              "      <td>32.0</td>\n",
              "      <td>...</td>\n",
              "      <td>0.0</td>\n",
              "      <td>0.0</td>\n",
              "      <td>0.0</td>\n",
              "      <td>0.0</td>\n",
              "      <td>0.0</td>\n",
              "      <td>0.0</td>\n",
              "      <td>0.0</td>\n",
              "      <td>0.0</td>\n",
              "      <td>0.0</td>\n",
              "      <td>0.0</td>\n",
              "      <td>0.0</td>\n",
              "      <td>0.0</td>\n",
              "      <td>0.0</td>\n",
              "      <td>0.0</td>\n",
              "      <td>0.0</td>\n",
              "      <td>0.0</td>\n",
              "      <td>0.0</td>\n",
              "      <td>0.0</td>\n",
              "      <td>0.0</td>\n",
              "      <td>0.0</td>\n",
              "      <td>0.0</td>\n",
              "      <td>0</td>\n",
              "      <td>0</td>\n",
              "      <td>1</td>\n",
              "      <td>0</td>\n",
              "      <td>0</td>\n",
              "      <td>0</td>\n",
              "      <td>0</td>\n",
              "      <td>1</td>\n",
              "      <td>1</td>\n",
              "      <td>0</td>\n",
              "      <td>0</td>\n",
              "      <td>0</td>\n",
              "      <td>0</td>\n",
              "      <td>1</td>\n",
              "      <td>0</td>\n",
              "      <td>0</td>\n",
              "      <td>0</td>\n",
              "      <td>0</td>\n",
              "      <td>0</td>\n",
              "    </tr>\n",
              "    <tr>\n",
              "      <th>1</th>\n",
              "      <td>246060</td>\n",
              "      <td>81</td>\n",
              "      <td>77.0</td>\n",
              "      <td>27.421875</td>\n",
              "      <td>0</td>\n",
              "      <td>160.0</td>\n",
              "      <td>90</td>\n",
              "      <td>0.927778</td>\n",
              "      <td>0</td>\n",
              "      <td>70.2</td>\n",
              "      <td>NaN</td>\n",
              "      <td>108.0</td>\n",
              "      <td>203.01</td>\n",
              "      <td>0</td>\n",
              "      <td>0</td>\n",
              "      <td>NaN</td>\n",
              "      <td>9.0</td>\n",
              "      <td>0.56</td>\n",
              "      <td>1.0</td>\n",
              "      <td>1.0</td>\n",
              "      <td>3.0</td>\n",
              "      <td>0.0</td>\n",
              "      <td>1.0</td>\n",
              "      <td>145.0</td>\n",
              "      <td>120.0</td>\n",
              "      <td>36.9</td>\n",
              "      <td>0</td>\n",
              "      <td>46.0</td>\n",
              "      <td>37.0</td>\n",
              "      <td>37.0</td>\n",
              "      <td>51.0</td>\n",
              "      <td>7.45</td>\n",
              "      <td>33.0</td>\n",
              "      <td>145.0</td>\n",
              "      <td>35.1</td>\n",
              "      <td>NaN</td>\n",
              "      <td>1</td>\n",
              "      <td>12.7</td>\n",
              "      <td>NaN</td>\n",
              "      <td>NaN</td>\n",
              "      <td>...</td>\n",
              "      <td>1.0</td>\n",
              "      <td>1.0</td>\n",
              "      <td>1.0</td>\n",
              "      <td>1.0</td>\n",
              "      <td>1.0</td>\n",
              "      <td>1.0</td>\n",
              "      <td>1.0</td>\n",
              "      <td>1.0</td>\n",
              "      <td>1.0</td>\n",
              "      <td>1.0</td>\n",
              "      <td>1.0</td>\n",
              "      <td>1.0</td>\n",
              "      <td>1.0</td>\n",
              "      <td>1.0</td>\n",
              "      <td>1.0</td>\n",
              "      <td>1.0</td>\n",
              "      <td>1.0</td>\n",
              "      <td>1.0</td>\n",
              "      <td>1.0</td>\n",
              "      <td>1.0</td>\n",
              "      <td>1.0</td>\n",
              "      <td>0</td>\n",
              "      <td>0</td>\n",
              "      <td>1</td>\n",
              "      <td>0</td>\n",
              "      <td>0</td>\n",
              "      <td>0</td>\n",
              "      <td>1</td>\n",
              "      <td>0</td>\n",
              "      <td>1</td>\n",
              "      <td>0</td>\n",
              "      <td>0</td>\n",
              "      <td>0</td>\n",
              "      <td>0</td>\n",
              "      <td>0</td>\n",
              "      <td>0</td>\n",
              "      <td>0</td>\n",
              "      <td>1</td>\n",
              "      <td>0</td>\n",
              "      <td>0</td>\n",
              "    </tr>\n",
              "    <tr>\n",
              "      <th>2</th>\n",
              "      <td>276985</td>\n",
              "      <td>118</td>\n",
              "      <td>25.0</td>\n",
              "      <td>31.952749</td>\n",
              "      <td>0</td>\n",
              "      <td>172.7</td>\n",
              "      <td>93</td>\n",
              "      <td>0.000694</td>\n",
              "      <td>0</td>\n",
              "      <td>95.3</td>\n",
              "      <td>NaN</td>\n",
              "      <td>122.0</td>\n",
              "      <td>703.03</td>\n",
              "      <td>0</td>\n",
              "      <td>0</td>\n",
              "      <td>NaN</td>\n",
              "      <td>NaN</td>\n",
              "      <td>NaN</td>\n",
              "      <td>NaN</td>\n",
              "      <td>3.0</td>\n",
              "      <td>6.0</td>\n",
              "      <td>0.0</td>\n",
              "      <td>5.0</td>\n",
              "      <td>NaN</td>\n",
              "      <td>102.0</td>\n",
              "      <td>NaN</td>\n",
              "      <td>0</td>\n",
              "      <td>68.0</td>\n",
              "      <td>NaN</td>\n",
              "      <td>NaN</td>\n",
              "      <td>NaN</td>\n",
              "      <td>NaN</td>\n",
              "      <td>37.0</td>\n",
              "      <td>NaN</td>\n",
              "      <td>36.7</td>\n",
              "      <td>NaN</td>\n",
              "      <td>0</td>\n",
              "      <td>NaN</td>\n",
              "      <td>NaN</td>\n",
              "      <td>NaN</td>\n",
              "      <td>...</td>\n",
              "      <td>0.0</td>\n",
              "      <td>0.0</td>\n",
              "      <td>0.0</td>\n",
              "      <td>0.0</td>\n",
              "      <td>0.0</td>\n",
              "      <td>0.0</td>\n",
              "      <td>0.0</td>\n",
              "      <td>0.0</td>\n",
              "      <td>0.0</td>\n",
              "      <td>0.0</td>\n",
              "      <td>0.0</td>\n",
              "      <td>0.0</td>\n",
              "      <td>0.0</td>\n",
              "      <td>0.0</td>\n",
              "      <td>0.0</td>\n",
              "      <td>0.0</td>\n",
              "      <td>0.0</td>\n",
              "      <td>0.0</td>\n",
              "      <td>0.0</td>\n",
              "      <td>0.0</td>\n",
              "      <td>0.0</td>\n",
              "      <td>0</td>\n",
              "      <td>0</td>\n",
              "      <td>1</td>\n",
              "      <td>0</td>\n",
              "      <td>0</td>\n",
              "      <td>0</td>\n",
              "      <td>1</td>\n",
              "      <td>0</td>\n",
              "      <td>1</td>\n",
              "      <td>0</td>\n",
              "      <td>0</td>\n",
              "      <td>0</td>\n",
              "      <td>0</td>\n",
              "      <td>0</td>\n",
              "      <td>0</td>\n",
              "      <td>0</td>\n",
              "      <td>1</td>\n",
              "      <td>0</td>\n",
              "      <td>0</td>\n",
              "    </tr>\n",
              "    <tr>\n",
              "      <th>3</th>\n",
              "      <td>262220</td>\n",
              "      <td>118</td>\n",
              "      <td>81.0</td>\n",
              "      <td>22.635548</td>\n",
              "      <td>1</td>\n",
              "      <td>165.1</td>\n",
              "      <td>92</td>\n",
              "      <td>0.000694</td>\n",
              "      <td>0</td>\n",
              "      <td>61.7</td>\n",
              "      <td>NaN</td>\n",
              "      <td>203.0</td>\n",
              "      <td>1206.03</td>\n",
              "      <td>1</td>\n",
              "      <td>0</td>\n",
              "      <td>NaN</td>\n",
              "      <td>NaN</td>\n",
              "      <td>NaN</td>\n",
              "      <td>0.6</td>\n",
              "      <td>4.0</td>\n",
              "      <td>6.0</td>\n",
              "      <td>0.0</td>\n",
              "      <td>5.0</td>\n",
              "      <td>185.0</td>\n",
              "      <td>114.0</td>\n",
              "      <td>25.9</td>\n",
              "      <td>1</td>\n",
              "      <td>60.0</td>\n",
              "      <td>30.0</td>\n",
              "      <td>30.0</td>\n",
              "      <td>142.0</td>\n",
              "      <td>7.39</td>\n",
              "      <td>4.0</td>\n",
              "      <td>NaN</td>\n",
              "      <td>34.8</td>\n",
              "      <td>NaN</td>\n",
              "      <td>1</td>\n",
              "      <td>8.0</td>\n",
              "      <td>62.0</td>\n",
              "      <td>30.0</td>\n",
              "      <td>...</td>\n",
              "      <td>0.0</td>\n",
              "      <td>0.0</td>\n",
              "      <td>0.0</td>\n",
              "      <td>1.0</td>\n",
              "      <td>1.0</td>\n",
              "      <td>1.0</td>\n",
              "      <td>1.0</td>\n",
              "      <td>1.0</td>\n",
              "      <td>1.0</td>\n",
              "      <td>1.0</td>\n",
              "      <td>1.0</td>\n",
              "      <td>1.0</td>\n",
              "      <td>1.0</td>\n",
              "      <td>1.0</td>\n",
              "      <td>1.0</td>\n",
              "      <td>1.0</td>\n",
              "      <td>1.0</td>\n",
              "      <td>1.0</td>\n",
              "      <td>1.0</td>\n",
              "      <td>1.0</td>\n",
              "      <td>1.0</td>\n",
              "      <td>0</td>\n",
              "      <td>0</td>\n",
              "      <td>1</td>\n",
              "      <td>0</td>\n",
              "      <td>0</td>\n",
              "      <td>0</td>\n",
              "      <td>1</td>\n",
              "      <td>0</td>\n",
              "      <td>1</td>\n",
              "      <td>0</td>\n",
              "      <td>0</td>\n",
              "      <td>0</td>\n",
              "      <td>0</td>\n",
              "      <td>1</td>\n",
              "      <td>0</td>\n",
              "      <td>0</td>\n",
              "      <td>0</td>\n",
              "      <td>0</td>\n",
              "      <td>0</td>\n",
              "    </tr>\n",
              "    <tr>\n",
              "      <th>4</th>\n",
              "      <td>201746</td>\n",
              "      <td>33</td>\n",
              "      <td>19.0</td>\n",
              "      <td>NaN</td>\n",
              "      <td>0</td>\n",
              "      <td>188.0</td>\n",
              "      <td>91</td>\n",
              "      <td>0.073611</td>\n",
              "      <td>0</td>\n",
              "      <td>NaN</td>\n",
              "      <td>NaN</td>\n",
              "      <td>119.0</td>\n",
              "      <td>601.01</td>\n",
              "      <td>0</td>\n",
              "      <td>0</td>\n",
              "      <td>NaN</td>\n",
              "      <td>NaN</td>\n",
              "      <td>NaN</td>\n",
              "      <td>NaN</td>\n",
              "      <td>NaN</td>\n",
              "      <td>NaN</td>\n",
              "      <td>NaN</td>\n",
              "      <td>NaN</td>\n",
              "      <td>NaN</td>\n",
              "      <td>60.0</td>\n",
              "      <td>NaN</td>\n",
              "      <td>0</td>\n",
              "      <td>103.0</td>\n",
              "      <td>NaN</td>\n",
              "      <td>NaN</td>\n",
              "      <td>NaN</td>\n",
              "      <td>NaN</td>\n",
              "      <td>16.0</td>\n",
              "      <td>NaN</td>\n",
              "      <td>36.7</td>\n",
              "      <td>NaN</td>\n",
              "      <td>0</td>\n",
              "      <td>NaN</td>\n",
              "      <td>NaN</td>\n",
              "      <td>NaN</td>\n",
              "      <td>...</td>\n",
              "      <td>0.0</td>\n",
              "      <td>0.0</td>\n",
              "      <td>0.0</td>\n",
              "      <td>0.0</td>\n",
              "      <td>0.0</td>\n",
              "      <td>0.0</td>\n",
              "      <td>0.0</td>\n",
              "      <td>0.0</td>\n",
              "      <td>0.0</td>\n",
              "      <td>0.0</td>\n",
              "      <td>0.0</td>\n",
              "      <td>0.0</td>\n",
              "      <td>0.0</td>\n",
              "      <td>0.0</td>\n",
              "      <td>0.0</td>\n",
              "      <td>0.0</td>\n",
              "      <td>0.0</td>\n",
              "      <td>0.0</td>\n",
              "      <td>0.0</td>\n",
              "      <td>0.0</td>\n",
              "      <td>0.0</td>\n",
              "      <td>0</td>\n",
              "      <td>0</td>\n",
              "      <td>1</td>\n",
              "      <td>0</td>\n",
              "      <td>0</td>\n",
              "      <td>0</td>\n",
              "      <td>0</td>\n",
              "      <td>1</td>\n",
              "      <td>1</td>\n",
              "      <td>0</td>\n",
              "      <td>0</td>\n",
              "      <td>0</td>\n",
              "      <td>0</td>\n",
              "      <td>0</td>\n",
              "      <td>0</td>\n",
              "      <td>0</td>\n",
              "      <td>1</td>\n",
              "      <td>0</td>\n",
              "      <td>0</td>\n",
              "    </tr>\n",
              "  </tbody>\n",
              "</table>\n",
              "<p>5 rows × 348 columns</p>\n",
              "</div>"
            ],
            "text/plain": [
              "   encounter_id  hospital_id  ...  icu_type_Neuro ICU  icu_type_SICU\n",
              "0        214826          118  ...                   0              0\n",
              "1        246060           81  ...                   0              0\n",
              "2        276985          118  ...                   0              0\n",
              "3        262220          118  ...                   0              0\n",
              "4        201746           33  ...                   0              0\n",
              "\n",
              "[5 rows x 348 columns]"
            ]
          },
          "metadata": {
            "tags": []
          },
          "execution_count": 126
        }
      ]
    },
    {
      "cell_type": "code",
      "metadata": {
        "id": "eq2UIw_7o8RL"
      },
      "source": [
        "# Save cleaned training dataset\n",
        "training_data.to_csv('training_data_clean.csv',index=False)"
      ],
      "execution_count": 127,
      "outputs": []
    },
    {
      "cell_type": "code",
      "metadata": {
        "colab": {
          "base_uri": "https://localhost:8080/"
        },
        "id": "kTzOH-nqQDtn",
        "outputId": "7d37cc06-8f74-4d56-9fc5-52e7e46ec0f6"
      },
      "source": [
        "# Define independent and dependent variables\n",
        "y = training_data['diabetes_mellitus']\n",
        "training_data = training_data.drop(columns=['diabetes_mellitus'])\n",
        "# encounter_id and hospital_id should not be invluded as predictors\n",
        "training_data = training_data.drop(columns=['encounter_id', 'hospital_id'])\n",
        "print(y.shape)\n",
        "print(training_data.shape)"
      ],
      "execution_count": 128,
      "outputs": [
        {
          "output_type": "stream",
          "text": [
            "(130091,)\n",
            "(130091, 345)\n"
          ],
          "name": "stdout"
        }
      ]
    },
    {
      "cell_type": "code",
      "metadata": {
        "id": "fmkm1hjWpff9"
      },
      "source": [
        ""
      ],
      "execution_count": null,
      "outputs": []
    }
  ]
}